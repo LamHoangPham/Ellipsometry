{
 "cells": [
  {
   "cell_type": "markdown",
   "metadata": {},
   "source": [
    "# Optimization of Ellipsometric measurements\n",
    "\n",
    "\n",
    "\n",
    "**Optimization Algorithm**: \n",
    "\n",
    "Applying SCE UA (Shuffled complex evolution optimization algorithm) by [Duan et al](https://www.sciencedirect.com/science/article/pii/0022169494900574) with the modification of python implementation of \n",
    "[Stijn Van Hoey ](https://github.com/stijnvanhoey/Optimization_SCE)\n",
    "\n",
    "\n",
    "\n"
   ]
  },
  {
   "cell_type": "code",
   "execution_count": null,
   "metadata": {},
   "outputs": [],
   "source": [
    "import numpy as np\n",
    "from random import randrange\n",
    "import SCE"
   ]
  },
  {
   "cell_type": "markdown",
   "metadata": {},
   "source": [
    "## 1. Helpful functions"
   ]
  },
  {
   "cell_type": "code",
   "execution_count": null,
   "metadata": {},
   "outputs": [],
   "source": [
    "def angle2ST(x,s,t):  \n",
    "    \n",
    "    # x: array of (azimuth, ellipsity), len(x) depends on s and t\n",
    "    # s,t: number of PSG state and PSA state, respectively\n",
    "    \n",
    "    # number of parameters=2*(s + t)    \n",
    "    # case 1: 1 PSG + 4 PSA: 10 parameters\n",
    "    # case 2: 2 PSG + 2PSA: 8 parameters    \n",
    "    \n",
    "    angleS=np.array([[x[i],x[s+t+i]] for i in range(s+t) if i<s])\n",
    "    angleT=np.array([[x[i],x[s+t+i]] for i in range(s+t) if i>=s])\n",
    "    \n",
    "    vectorS=Fvector(angleS)\n",
    "    vectorT=Fvector(angleT)\n",
    "    \n",
    "    return vectorS, vectorT   \n",
    "\n",
    "\n",
    "def Fvector(angle):\n",
    "    \n",
    "    def vectori(alpi,epsi): # vector element\n",
    "        alphai=np.radians(alpi) # covert to radians\n",
    "        epsiloni=np.radians(epsi)\n",
    "        return np.array([[1,np.cos(2*alphai)*np.cos(2*epsiloni),np.sin(2*alphai)*np.cos(2*epsiloni),np.sin(2*epsiloni)]]).T\n",
    "    \n",
    "    vector=vectori(angle.item(0,0),angle.item(0,1)) # initializing vector\n",
    "    if len(angle) >1:\n",
    "        for i in range(1,len(angle)):\n",
    "            s1=angle.item(i,0)\n",
    "            s2=angle.item(i,1)\n",
    "            vector=np.append(vector,vectori(s1,s2),axis=1)   \n",
    "           \n",
    "    return vector\n",
    "\n",
    "# Define function to optimize\n",
    "\n",
    "def roundmatrix(M): # round all element of matrix\n",
    "    for i in range (0,M.shape[0]):\n",
    "        for j in range(0, M.shape[1]):\n",
    "            M.itemset((i,j), np.round(M.item(i,j),5))    "
   ]
  },
  {
   "cell_type": "markdown",
   "metadata": {},
   "source": [
    "## 2. Start to optimize"
   ]
  },
  {
   "cell_type": "code",
   "execution_count": null,
   "metadata": {},
   "outputs": [],
   "source": [
    "def Ellipsometry(OptFunction,number,s,t):\n",
    "    \n",
    "    #OptFunction: function for the optimization\n",
    "    # number: number of run (with different x0)\n",
    "    \n",
    "    # s,t: number of PSG state and PSA state, respectively, defining the dimension of starting point x0   \n",
    "    \n",
    "    # parameters for SCEUA optimazation\n",
    "    maxn=100000\n",
    "    kstop=1000\n",
    "    pcento=1.e-5\n",
    "    peps=0.001\n",
    "    iseed= 0\n",
    "    iniflg=0\n",
    "    ngs=5\n",
    "\n",
    "    # bound for each variable\n",
    "    pi=180\n",
    "    bl=np.concatenate(([-pi/2]*(s+t),[-pi/4]*(s+t)),axis=0)\n",
    "    bu=np.concatenate(([pi/2]*(s+t),[pi/4]*(s+t)),axis=0)\n",
    "\n",
    "\n",
    "    # run optimization with number values of  x0\n",
    "\n",
    "    Listbestx=[];Listbestf=[]\n",
    "    List_vectorS=[];List_vectorT=[]\n",
    "\n",
    "    for i in range(number):\n",
    "        #starting with a random x0\n",
    "        x0=np.concatenate(([randrange(-90,90,1) for i in range(s+t)],[randrange(-45,45,1) for i in range(s+t)]),axis=0)\n",
    "\n",
    "        bestx,bestf,BESTX,BESTF,ICALL = SCE.sceua(x0,bl,bu,maxn,kstop,pcento,peps,ngs,iseed,iniflg,OptFunction)\n",
    "\n",
    "        Listbestx.append(bestx)\n",
    "        Listbestf.append(bestf)\n",
    "    \n",
    "        S,T=angle2ST(bestx,s,t)\n",
    "    \n",
    "        roundmatrix(S)\n",
    "        roundmatrix(T)\n",
    "        List_vectorS.append(S)\n",
    "        List_vectorT.append(T)\n",
    "    return List_vectorS,List_vectorT,Listbestx,Listbestf\n",
    "    "
   ]
  },
  {
   "cell_type": "markdown",
   "metadata": {},
   "source": [
    "## 2.1 Case 1:  one  PSG state + four  PSA states"
   ]
  },
  {
   "cell_type": "code",
   "execution_count": null,
   "metadata": {},
   "outputs": [],
   "source": [
    "# define function to optimize\n",
    "# case 1: s=1, t=4\n",
    "def OptFunction1(x):      \n",
    "   \n",
    "    vectorS,vectorT=angle2ST(x,1,4)    \n",
    "    \n",
    "    W=np.array([\n",
    "    [1+vectorS.item(1,0)*vectorT.item(1,0),vectorT.item(1,0)+vectorS.item(1,0),vectorS.item(2,0)*vectorT.item(2,0)+vectorS.item(3,0)*vectorT.item(3,0),vectorS.item(3,0)*vectorT.item(2,0)-vectorS.item(2,0)*vectorT.item(3,0) ],\n",
    "    [1+vectorS.item(1,0)*vectorT.item(1,1),vectorT.item(1,1)+vectorS.item(1,0),vectorS.item(2,0)*vectorT.item(2,1)+vectorS.item(3,0)*vectorT.item(3,1),vectorS.item(3,0)*vectorT.item(2,1)-vectorS.item(2,0)*vectorT.item(3,1) ],\n",
    "    [1+vectorS.item(1,0)*vectorT.item(1,2),vectorT.item(1,2)+vectorS.item(1,0),vectorS.item(2,0)*vectorT.item(2,2)+vectorS.item(3,0)*vectorT.item(3,2),vectorS.item(3,0)*vectorT.item(2,2)-vectorS.item(2,0)*vectorT.item(3,2) ],\n",
    "    [1+vectorS.item(1,0)*vectorT.item(1,3),vectorT.item(1,3)+vectorS.item(1,0),vectorS.item(2,0)*vectorT.item(2,3)+vectorS.item(3,0)*vectorT.item(3,3),vectorS.item(3,0)*vectorT.item(2,3)-vectorS.item(2,0)*vectorT.item(3,3) ]\n",
    "])\n",
    "           \n",
    "    W_inv=np.linalg.inv(W)\n",
    "    Gauss=np.dot(W_inv,W_inv.T)\n",
    "    \n",
    "    f = np.trace(Gauss)\n",
    "    \n",
    "    return f            "
   ]
  },
  {
   "cell_type": "code",
   "execution_count": null,
   "metadata": {},
   "outputs": [],
   "source": [
    "# Case 1\n",
    "#number =1, s=1, t=4\n",
    "List_vectorS_1,List_vectorT_1,List_bestx_1,List_bestf_1=Ellipsometry(OptFunction1,1,1,4)"
   ]
  },
  {
   "cell_type": "markdown",
   "metadata": {},
   "source": [
    "## 2.2 Case 2: two  PSG states + two  PSA states"
   ]
  },
  {
   "cell_type": "code",
   "execution_count": null,
   "metadata": {},
   "outputs": [],
   "source": [
    "# define function to optimize\n",
    "# case 2: s=2, t=2\n",
    "def OptFunction2(x):      \n",
    "   \n",
    "    vectorS,vectorT=angle2ST(x,2,2)    \n",
    "    \n",
    "    W=np.array([\n",
    "    [1+vectorS.item(1,0)*vectorT.item(1,0),vectorT.item(1,0)+vectorS.item(1,0),vectorS.item(2,0)*vectorT.item(2,0)+vectorS.item(3,0)*vectorT.item(3,0),vectorS.item(3,0)*vectorT.item(2,0)-vectorS.item(2,0)*vectorT.item(3,0) ],\n",
    "    [1+vectorS.item(1,0)*vectorT.item(1,1),vectorT.item(1,1)+vectorS.item(1,0),vectorS.item(2,0)*vectorT.item(2,1)+vectorS.item(3,0)*vectorT.item(3,1),vectorS.item(3,0)*vectorT.item(2,1)-vectorS.item(2,0)*vectorT.item(3,1) ],\n",
    "    [1+vectorS.item(1,1)*vectorT.item(1,0),vectorT.item(1,0)+vectorS.item(1,1),vectorS.item(2,1)*vectorT.item(2,0)+vectorS.item(3,1)*vectorT.item(3,0),vectorS.item(3,1)*vectorT.item(2,0)-vectorS.item(2,1)*vectorT.item(3,0) ],\n",
    "    [1+vectorS.item(1,1)*vectorT.item(1,1),vectorT.item(1,1)+vectorS.item(1,1),vectorS.item(2,1)*vectorT.item(2,1)+vectorS.item(3,1)*vectorT.item(3,1),vectorS.item(3,1)*vectorT.item(2,1)-vectorS.item(2,1)*vectorT.item(3,1) ]\n",
    "])\n",
    "           \n",
    "    W_inv=np.linalg.inv(W)\n",
    "    Gauss=np.dot(W_inv,W_inv.T)\n",
    "    \n",
    "    f = np.trace(Gauss)\n",
    "    \n",
    "    return f            "
   ]
  },
  {
   "cell_type": "code",
   "execution_count": null,
   "metadata": {},
   "outputs": [],
   "source": [
    "# Case 2\n",
    "#number =1, s=2, t=2\n",
    "List_vectorS_2,List_vectorT_2,List_bestx_2,List_bestf_2=Ellipsometry(OptFunction2,1,2,2)"
   ]
  }
 ],
 "metadata": {
  "kernelspec": {
   "display_name": "Python 3",
   "language": "python",
   "name": "python3"
  },
  "language_info": {
   "codemirror_mode": {
    "name": "ipython",
    "version": 3
   },
   "file_extension": ".py",
   "mimetype": "text/x-python",
   "name": "python",
   "nbconvert_exporter": "python",
   "pygments_lexer": "ipython3",
   "version": "3.6.7"
  },
  "varInspector": {
   "cols": {
    "lenName": 16,
    "lenType": 16,
    "lenVar": 40
   },
   "kernels_config": {
    "python": {
     "delete_cmd_postfix": "",
     "delete_cmd_prefix": "del ",
     "library": "var_list.py",
     "varRefreshCmd": "print(var_dic_list())"
    },
    "r": {
     "delete_cmd_postfix": ") ",
     "delete_cmd_prefix": "rm(",
     "library": "var_list.r",
     "varRefreshCmd": "cat(var_dic_list()) "
    }
   },
   "types_to_exclude": [
    "module",
    "function",
    "builtin_function_or_method",
    "instance",
    "_Feature"
   ],
   "window_display": false
  }
 },
 "nbformat": 4,
 "nbformat_minor": 2
}
